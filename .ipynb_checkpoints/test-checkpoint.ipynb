{
 "cells": [
  {
   "cell_type": "code",
   "execution_count": 1,
   "metadata": {},
   "outputs": [],
   "source": [
    "import thulac\n",
    "def load_cut_dict(user_dict_file):\n",
    "    trie_dict = dict()\n",
    "    with open(user_dict_file, \"r\", encoding=\"utf-8\") as fp:\n",
    "        lines = fp.readlines()\n",
    "        for idx,line in enumerate(lines):\n",
    "            cut_parts = line.strip().split(' ')\n",
    "            num = len(cut_parts)\n",
    "            tmp_dict = trie_dict\n",
    "            for i in range(num):\n",
    "                p = cut_parts[i]\n",
    "                if p in tmp_dict:\n",
    "                    tmp_dict = tmp_dict[p]\n",
    "                else:\n",
    "                    tmp_dict[p] = dict()\n",
    "                    tmp_dict = tmp_dict[p]\n",
    "\n",
    "                if i == num - 1:\n",
    "                    tmp_dict.update({\"is_leaf\":1})\n",
    "    \n",
    "    #for k,v in trie_dict.items():\n",
    "    #    print(\"%s\\t%s\" %(k,v))\n",
    "    return trie_dict"
   ]
  },
  {
   "cell_type": "code",
   "execution_count": 7,
   "metadata": {},
   "outputs": [],
   "source": [
    "def extract_candidates_incutdict(tokens_tagged, cut_kw_dict):\n",
    "    keyphrase_candidate = []\n",
    "    count = 0\n",
    "    num = len(tokens_tagged)\n",
    "    i = 0\n",
    "    while i < num:\n",
    "        token,pos = tokens_tagged[i]\n",
    "        if token in cut_kw_dict:\n",
    "            length = 1 \n",
    "            tmp_dict = cut_kw_dict[token]\n",
    "            match_length = 1\n",
    "            if \"is_leaf\" in tmp_dict:\n",
    "                is_match = True\n",
    "            else:\n",
    "                is_match = False\n",
    "\n",
    "            for j in range(i + 1, num):\n",
    "                tmp_token,tmp_pos = tokens_tagged[j]                 \n",
    "                if tmp_token in tmp_dict:\n",
    "                    length += 1 \n",
    "                    tmp_dict = tmp_dict[tmp_token]\n",
    "                    if \"is_leaf\" in tmp_dict:\n",
    "                        is_match = True\n",
    "                        match_length = length\n",
    "                else:\n",
    "                    break\n",
    "            \n",
    "            if is_match:\n",
    "                candidate_kw = \"\"\n",
    "                for k in range(0, match_length):\n",
    "                    candidate_kw += tokens_tagged[i + k][0]\n",
    "                start_end = (i, i + match_length - 1)\n",
    "                keyphrase_candidate.append((candidate_kw, start_end))\n",
    "                print(\"%s, %s\" %(candidate_kw, start_end))\n",
    "                i += match_length\n",
    "            else:\n",
    "                i += 1\n",
    "        else:\n",
    "            i += 1\n",
    "    return keyphrase_candidate"
   ]
  },
  {
   "cell_type": "code",
   "execution_count": 8,
   "metadata": {},
   "outputs": [
    {
     "name": "stdout",
     "output_type": "stream",
     "text": [
      "中银富登村镇银行, (0, 5)\n",
      "股份有限公司, (6, 7)\n"
     ]
    },
    {
     "data": {
      "text/plain": [
       "[('中银富登村镇银行', (0, 5)), ('股份有限公司', (6, 7))]"
      ]
     },
     "execution_count": 8,
     "metadata": {},
     "output_type": "execute_result"
    }
   ],
   "source": [
    "word_pos = [(\"中\", \"n\"), (\"银\",\"n\"), (\"富\",\"n\"), (\"登\",\"n\"), (\"村镇\",\"n\"), (\"银行\",\"n\"), (\"股份\",\"n\"), (\"有限公司\",\"n\")]\n",
    "cut_kw_dict = load_cut_dict('/search/odin/liruihong/keyword-project/data/keywords_vocab/keyword_vocab_final_cut')\n",
    "extract_candidates_incutdict(word_pos, cut_kw_dict)"
   ]
  },
  {
   "cell_type": "code",
   "execution_count": 5,
   "metadata": {},
   "outputs": [
    {
     "data": {
      "text/plain": [
       "{'转': {'债': {'增强': {'债券b': {'is_leaf': 1}, '债券a': {'is_leaf': 1}}}},\n",
       " '纯': {'债': {'债券c': {'is_leaf': 1}, '债券a': {'is_leaf': 1}}},\n",
       " '沪': {'深': {'300': {'等': {'权重': {'指数': {'is_leaf': 1}}}}}},\n",
       " '富': {'登': {'村镇': {'银行': {'is_leaf': 1}}}},\n",
       " '价': {'值': {'精选': {'is_leaf': 1}}}}"
      ]
     },
     "execution_count": 5,
     "metadata": {},
     "output_type": "execute_result"
    }
   ],
   "source": [
    "cut_kw_dict[\"中\"][\"银\"]"
   ]
  },
  {
   "cell_type": "code",
   "execution_count": null,
   "metadata": {},
   "outputs": [],
   "source": []
  }
 ],
 "metadata": {
  "kernelspec": {
   "display_name": "Python 3",
   "language": "python",
   "name": "python3"
  },
  "language_info": {
   "codemirror_mode": {
    "name": "ipython",
    "version": 3
   },
   "file_extension": ".py",
   "mimetype": "text/x-python",
   "name": "python",
   "nbconvert_exporter": "python",
   "pygments_lexer": "ipython3",
   "version": "3.7.6"
  }
 },
 "nbformat": 4,
 "nbformat_minor": 4
}
